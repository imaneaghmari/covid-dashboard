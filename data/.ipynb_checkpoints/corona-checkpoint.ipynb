{
 "cells": [
  {
   "cell_type": "markdown",
   "metadata": {},
   "source": [
    "# Data Scraping"
   ]
  },
  {
   "cell_type": "code",
   "execution_count": null,
   "metadata": {},
   "outputs": [],
   "source": [
    "import pandas as pd\n",
    "import numpy as np\n",
    "import requests as r"
   ]
  },
  {
   "cell_type": "markdown",
   "metadata": {},
   "source": [
    "### Downloading and reading the files"
   ]
  },
  {
   "cell_type": "code",
   "execution_count": null,
   "metadata": {},
   "outputs": [],
   "source": [
    "def download_files():\n",
    "##################################################################################################\n",
    "### This function downloads the datasets \"données hospitalières\" and \"capacité d'hospitalisation\"\n",
    "### directly from the urls below. \n",
    "##################################################################################################\n",
    "    url_donnees_hosp = \"https://www.data.gouv.fr/fr/datasets/r/63352e38-d353-4b54-bfd1-f1b3ee1cabd7\"\n",
    "    url_capa_hosp = \"https://drees.solidarites-sante.gouv.fr/IMG/xlsx/es_2019_fiche_02_capacite_.xlsx\"\n",
    "    \n",
    "    donnees_hosp = r.get(url_donnees_hosp)\n",
    "    donnes_capa = r.get(url_capa_hosp)\n",
    "    \n",
    "    with open('dh.csv', 'wb') as f:\n",
    "        f.write(donnees_hosp.content)\n",
    "    with open('dc.xlsx', 'wb') as f:\n",
    "        f.write(donnes_capa.content)\n",
    "        \n",
    "    \n",
    "def read_files():\n",
    "####################################################################################################\n",
    "#### This function read the 2 data files downloaded, and other datasets manually downloaded which\n",
    "#### are : \"nombre de médecins par départeement\" and  \"population par département\"\n",
    "##### df = données_hospitalières groupées = nombre de cas covid par jour par département\n",
    "##### dfc = capacité des hopitaux par département (par 10 000 habitants)\n",
    "##### dfs = nombre de médecins par département\n",
    "##### dfp = population par département\n",
    "####################################################################################################\n",
    "\n",
    "    df = pd.read_csv(\"./dh.csv\",sep=\";\")\n",
    "    df = df.groupby([\"jour\",\"dep\"]).sum()\n",
    "    df = df.drop([\"sexe\",\"rad\",\"dc\"],axis=1)\n",
    "    \n",
    "    dfc = pd.read_excel(\"./dc.xlsx\",sheet_name = \"ES_2019_fiche 02_carte 2\",skiprows=3,usecols=\"b:d\",nrows=101)\n",
    "    \n",
    "    dfs = pd.read_excel(\"./staff.xls\",skiprows=4,skipfooter=2,usecols=[0,1,4,5,7])\n",
    "    \n",
    "    dfp = pd.read_csv(\"./pop.csv\",skiprows=0,usecols=[0,6],sep=\";\")\n",
    "\n",
    "    return df, dfc, dfs, dfp"
   ]
  },
  {
   "cell_type": "markdown",
   "metadata": {},
   "source": [
    "### Computing metrics and generating the final dataset"
   ]
  },
  {
   "cell_type": "markdown",
   "metadata": {},
   "source": [
    "**The metrics we used in our dashboard are computed as follows:**"
   ]
  },
  {
   "cell_type": "markdown",
   "metadata": {},
   "source": [
    "$\\text{Hospitalization rate (global)} = \\frac{\\text{Number of hospitalized people}}{\\text{Hospital capacity}}*100$"
   ]
  },
  {
   "cell_type": "markdown",
   "metadata": {},
   "source": [
    "$\\text{Hospitalization rate (intensive care)} = \\frac{\\text{Number of hospitalized people (intensive care only)}}{\\text{Hospital capacity}}*100$"
   ]
  },
  {
   "cell_type": "markdown",
   "metadata": {},
   "source": [
    "$\\text{Medical staff saturation} = \\frac{\\text{Total number of medical staff}}{\\text{Number of hospitalized people}}$"
   ]
  },
  {
   "cell_type": "code",
   "execution_count": null,
   "metadata": {},
   "outputs": [],
   "source": [
    "def data_processing():\n",
    "##########################################################################################################\n",
    "#### This function cleans and processes the data downloaded and generates an excel file that contains only \n",
    "#### the attributes we want:\n",
    "#### - Hospitalization rate (global)\n",
    "#### - Hospitalization rate (intensive care only)\n",
    "#### - Medical staff saturation\n",
    "#########################################################################################################\n",
    "    capa = read_files()[1].rename({\"Nombre de places p10 000\":\"capa\",\"Département\":\"dep\"},axis=1)\n",
    "    cas = read_files()[0]\n",
    "    staff = read_files()[2].rename({\"Unnamed: 0\":\"dep\",\"Unnamed: 1\":\"dep_name\",\"dont général.\":\"general\",\n",
    "                                   \"dont spécial.\":\"spe\",\"Infirmiers diplômés d’État\":\"infirmiers\"},axis=1)\n",
    "    pop = read_files()[3]\n",
    "    pop[\"p_tot_10k\"] = pop[\"PTOT\"]/10000\n",
    "    \n",
    "    metrics = pd.merge(cas.reset_index(),capa,how=\"left\",left_on=\"dep\",right_on=\"dep\")\n",
    "    metrics = pd.merge(metrics,staff,how=\"left\",left_on=\"dep\",right_on=\"dep\")\n",
    "    \n",
    "    metrics[\"tot_cas\"] = metrics[\"hosp\"] + metrics[\"rea\"]\n",
    "    metrics[\"tot_medecins\"] = metrics[\"general\"] + metrics[\"spe\"]+metrics[\"infirmiers\"]\n",
    "    metrics = metrics.drop([\"general\",\"spe\",\"infirmiers\",\"dep_name\"],axis=1)\n",
    "    \n",
    "    # metrics --> dep | capacité | totaux médecins (généraux + spe + infirmiers) | totaux cas (hosp + rea)\n",
    "\n",
    "    metrics[\"nbre_medecins_par_cas\"] = metrics[\"tot_medecins\"]/metrics[\"tot_cas\"]\n",
    "\n",
    "    # metrics --> dep | capacité | totaux médecins | totaux cas | nb médecins par cas\n",
    "    \n",
    "    metrics = metrics.drop([\"tot_cas\"],axis=1) \n",
    "\n",
    "    metrics = pd.merge(metrics,pop,how=\"left\",left_on=\"dep\",right_on=\"CODDEP\").drop([\"CODDEP\",\"PTOT\"],axis=1)\n",
    "    \n",
    "    # metrics --> dep | \n",
    "\n",
    "    ##############\n",
    "    metrics[\"taux_hosp\"] = 100*metrics[\"hosp\"]/(metrics[\"capa\"]*metrics[\"p_tot_10k\"])\n",
    "    metrics[\"taux_rea\"] = 100*metrics[\"rea\"]/(metrics[\"capa\"]*metrics[\"p_tot_10k\"])\n",
    "    ##############\n",
    "    \n",
    "    \n",
    "    metrics[(metrics[\"dep\"]==\"75\") & (metrics[\"jour\"]==\"2020-05-31\")][[\"taux_rea\",\"jour\"]]\n",
    "\n",
    "    metrics = metrics.fillna(0)\n",
    "\n",
    "    metrics.loc[(metrics[\"nbre_medecins_par_cas\"] == np.inf),\"nbre_medecins_par_cas\"] = metrics[(metrics[\"nbre_medecins_par_cas\"] == np.inf)][\"tot_medecins\"]\n",
    "    taux_hosp = pd.pivot_table(metrics,index=\"dep\",columns=\"jour\",values=\"taux_hosp\")\n",
    "    taux_rea = pd.pivot_table(metrics,index=\"dep\",columns=\"jour\",values=\"taux_rea\")\n",
    "    nbre_medecins_par_cas = pd.pivot_table(metrics,index=\"dep\",columns=\"jour\",values=\"nbre_medecins_par_cas\")\n",
    "\n",
    "    writer = pd.ExcelWriter(\"./metrics.xlsx\", engine = 'xlsxwriter')\n",
    "    taux_hosp.to_excel(writer, sheet_name = 'taux_hosp')\n",
    "    taux_rea.to_excel(writer, sheet_name = 'taux_rea')\n",
    "    nbre_medecins_par_cas.to_excel(writer, sheet_name = 'nbre_medecins_par_cas')\n",
    "\n",
    "    writer.save()\n",
    "    writer.close()"
   ]
  },
  {
   "cell_type": "code",
   "execution_count": null,
   "metadata": {},
   "outputs": [],
   "source": [
    "if __name__== '__main__':\n",
    "    download_files()\n",
    "    data_processing()"
   ]
  }
 ],
 "metadata": {
  "kernelspec": {
   "display_name": "Python 3",
   "language": "python",
   "name": "python3"
  },
  "language_info": {
   "codemirror_mode": {
    "name": "ipython",
    "version": 3
   },
   "file_extension": ".py",
   "mimetype": "text/x-python",
   "name": "python",
   "nbconvert_exporter": "python",
   "pygments_lexer": "ipython3",
   "version": "3.7.3"
  }
 },
 "nbformat": 4,
 "nbformat_minor": 4
}
